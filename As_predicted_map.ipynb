{
 "cells": [
  {
   "cell_type": "code",
   "execution_count": 5,
   "id": "3b768906-16e0-45b2-90f2-e32b2db37842",
   "metadata": {},
   "outputs": [],
   "source": [
    "import rasterio\n",
    "import numpy as np\n",
    "import joblib"
   ]
  },
  {
   "cell_type": "code",
   "execution_count": 6,
   "id": "da4eba79-e531-4988-9fc4-86da0175a430",
   "metadata": {},
   "outputs": [],
   "source": [
    "rf_model = joblib.load('rf_model.pkl')"
   ]
  },
  {
   "cell_type": "code",
   "execution_count": 13,
   "id": "dbdce7df-aca8-4b1c-b9b0-d3c28e575108",
   "metadata": {},
   "outputs": [],
   "source": [
    "with rasterio.open('features_raster.tif') as src:\n",
    "    bands = [src.read(i + 1) for i in range(8)]\n",
    "    profile = src.profile  \n",
    "\n",
    "bands = np.array(bands)\n",
    "height, width = bands.shape[1], bands.shape[2]"
   ]
  },
  {
   "cell_type": "code",
   "execution_count": 14,
   "id": "e01e7c47-c479-44b8-9bf6-a65063f2f66e",
   "metadata": {},
   "outputs": [],
   "source": [
    "X_pred = bands.reshape(8, -1).T"
   ]
  },
  {
   "cell_type": "code",
   "execution_count": 18,
   "id": "322db1f1-5189-475d-9bce-749fa8f6dcbc",
   "metadata": {},
   "outputs": [],
   "source": [
    "valid_mask = ~np.any(X_pred == -32768, axis=1)\n",
    "X_pred_clean = X_pred[valid_mask]\n"
   ]
  },
  {
   "cell_type": "code",
   "execution_count": 21,
   "id": "0f4cbc94-d75c-4a75-b465-7845af04cea5",
   "metadata": {},
   "outputs": [
    {
     "name": "stderr",
     "output_type": "stream",
     "text": [
      "C:\\Users\\tipua\\AppData\\Local\\Programs\\Python\\Python312\\Lib\\site-packages\\sklearn\\utils\\validation.py:2739: UserWarning: X does not have valid feature names, but RandomForestClassifier was fitted with feature names\n",
      "  warnings.warn(\n"
     ]
    }
   ],
   "source": [
    "y_proba = np.full(X_pred.shape[0], np.nan)\n",
    "y_proba[valid_mask] = rf_model.predict_proba(X_pred_clean)[:, 1] \n",
    "\n",
    "proba_raster = y_proba.reshape(height, width)\n"
   ]
  },
  {
   "cell_type": "code",
   "execution_count": 22,
   "id": "1958523b-b9f3-4d4f-81a8-74d24167f0dc",
   "metadata": {},
   "outputs": [],
   "source": [
    "profile.update(dtype=rasterio.float32, count=1)\n",
    "\n",
    "with rasterio.open('predicted_As_probability.tif', 'w', **profile) as dst:\n",
    "    dst.write(proba_raster.astype(rasterio.float32), 1)"
   ]
  },
  {
   "cell_type": "code",
   "execution_count": null,
   "id": "2744daf7-2bd8-4e88-b397-81f45214a8c3",
   "metadata": {},
   "outputs": [],
   "source": []
  }
 ],
 "metadata": {
  "kernelspec": {
   "display_name": "Python 3",
   "language": "python",
   "name": "python3"
  },
  "language_info": {
   "codemirror_mode": {
    "name": "ipython",
    "version": 3
   },
   "file_extension": ".py",
   "mimetype": "text/x-python",
   "name": "python",
   "nbconvert_exporter": "python",
   "pygments_lexer": "ipython3",
   "version": "3.12.4"
  }
 },
 "nbformat": 4,
 "nbformat_minor": 5
}
